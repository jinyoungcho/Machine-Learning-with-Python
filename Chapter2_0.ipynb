{
 "cells": [
  {
   "cell_type": "markdown",
   "metadata": {},
   "source": [
    "## 지도학습!"
   ]
  },
  {
   "cell_type": "code",
   "execution_count": 7,
   "metadata": {},
   "outputs": [],
   "source": [
    "from IPython.display import display\n",
    "import sklearn\n",
    "import numpy as np\n",
    "import scipy\n",
    "import matplotlib.pyplot as plt\n",
    "import pandas as pd\n",
    "import mglearn\n",
    "import warnings\n",
    "\n",
    "warnings.simplefilter(\"ignore\") # warning 무시하기\n",
    "%matplotlib inline"
   ]
  },
  {
   "cell_type": "code",
   "execution_count": 3,
   "metadata": {},
   "outputs": [],
   "source": [
    "# Classification & Regression"
   ]
  },
  {
   "cell_type": "code",
   "execution_count": 5,
   "metadata": {},
   "outputs": [],
   "source": [
    "#분류\n",
    "#분류는 미리 정의된, 가능성 있는 여러 클래스 레이블(class label) 중 하나를 예측하는 것입니다. \n",
    "#얼굴 인식, 유명한 숫자 판별(MNIST) 등이 이에 속합니다. \n",
    "#분류에는 두 개로만 나누는 이진 분류(binary classification)과 셋 이상의 클래스로 분류하는 다중 분류(multiclass classification) 로 나뉩니다."
   ]
  },
  {
   "cell_type": "code",
   "execution_count": 6,
   "metadata": {},
   "outputs": [],
   "source": [
    "#회귀\n",
    "#회귀는 연속적인 숫자, 또는 부동소수점수 (실수)를 예측하는 것입니다. \n",
    "#주식 가격을 예측하여 수익을 내는 알고 트레이딩 등이 이에 속합니다. \n",
    "#분류와 회귀는 연속성이 있는가를 고민하면 쉽게 구분할 수 있습니다."
   ]
  },
  {
   "cell_type": "code",
   "execution_count": 8,
   "metadata": {},
   "outputs": [],
   "source": [
    "# 과대적합 - Overfitting \n",
    "\n",
    "# -> 너무 복잡한 모델, 훈련 셋트에만 과하게 성능을 발휘하는 모델\n",
    "\n",
    "# 과소적합 - Underfitting\n",
    "\n",
    "# -> 너무 간단한 모델, 제성능을 못내는 모델\n",
    "\n",
    "## -> 과소적합과 과대적합의 최적점을 찾자!"
   ]
  },
  {
   "cell_type": "code",
   "execution_count": null,
   "metadata": {},
   "outputs": [],
   "source": []
  }
 ],
 "metadata": {
  "kernelspec": {
   "display_name": "Python 3",
   "language": "python",
   "name": "python3"
  },
  "language_info": {
   "codemirror_mode": {
    "name": "ipython",
    "version": 3
   },
   "file_extension": ".py",
   "mimetype": "text/x-python",
   "name": "python",
   "nbconvert_exporter": "python",
   "pygments_lexer": "ipython3",
   "version": "3.7.3"
  }
 },
 "nbformat": 4,
 "nbformat_minor": 2
}
